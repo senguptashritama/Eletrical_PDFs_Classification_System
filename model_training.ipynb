{
 "cells": [
  {
   "cell_type": "code",
   "execution_count": 4,
   "metadata": {},
   "outputs": [],
   "source": [
    "import pandas as pd\n",
    "from tqdm import tqdm\n",
    "import matplotlib.pyplot as plt\n",
    "import pandas as pd\n",
    "import re\n",
    "import nltk\n",
    "from nltk.corpus import stopwords\n",
    "from nltk.tokenize import word_tokenize\n",
    "from nltk.stem import WordNetLemmatizer, PorterStemmer"
   ]
  },
  {
   "cell_type": "code",
   "execution_count": null,
   "metadata": {},
   "outputs": [],
   "source": [
    "nltk.download('punkt')\n",
    "nltk.download('stopwords')\n",
    "nltk.download('wordnet')\n",
    "nltk.download('omw-1.4')"
   ]
  },
  {
   "cell_type": "code",
   "execution_count": 5,
   "metadata": {},
   "outputs": [],
   "source": [
    "train_df = pd.read_csv(\"train_data_extracted.csv\")"
   ]
  },
  {
   "cell_type": "code",
   "execution_count": 6,
   "metadata": {},
   "outputs": [],
   "source": [
    "test_df = pd.read_csv(\"test_data_extracted.csv\")"
   ]
  },
  {
   "cell_type": "markdown",
   "metadata": {},
   "source": [
    "### Data Exploration"
   ]
  },
  {
   "cell_type": "code",
   "execution_count": 7,
   "metadata": {},
   "outputs": [
    {
     "data": {
      "text/html": [
       "<div>\n",
       "<style scoped>\n",
       "    .dataframe tbody tr th:only-of-type {\n",
       "        vertical-align: middle;\n",
       "    }\n",
       "\n",
       "    .dataframe tbody tr th {\n",
       "        vertical-align: top;\n",
       "    }\n",
       "\n",
       "    .dataframe thead th {\n",
       "        text-align: right;\n",
       "    }\n",
       "</style>\n",
       "<table border=\"1\" class=\"dataframe\">\n",
       "  <thead>\n",
       "    <tr style=\"text-align: right;\">\n",
       "      <th></th>\n",
       "      <th>datasheet_link</th>\n",
       "      <th>target_col</th>\n",
       "      <th>text</th>\n",
       "    </tr>\n",
       "  </thead>\n",
       "  <tbody>\n",
       "    <tr>\n",
       "      <th>0</th>\n",
       "      <td>https://lumenart.com/images/alume/awl-01_specs...</td>\n",
       "      <td>lighting</td>\n",
       "      <td>LumenArt LIGHTING SOLUTIONS AWL.01 AWL.01 4 in...</td>\n",
       "    </tr>\n",
       "    <tr>\n",
       "      <th>1</th>\n",
       "      <td>https://lumenart.com/images/fabric/rdc/rdc_spe...</td>\n",
       "      <td>lighting</td>\n",
       "      <td>RDC Series LumenArt LIGHTING SOLUTIONS SPECIFI...</td>\n",
       "    </tr>\n",
       "    <tr>\n",
       "      <th>2</th>\n",
       "      <td>https://lumenart.com/images/fabric/cyp/cyp_spe...</td>\n",
       "      <td>lighting</td>\n",
       "      <td>LumenArt CYP Series LIGHTING SOLUTIONS CYP8x24...</td>\n",
       "    </tr>\n",
       "    <tr>\n",
       "      <th>3</th>\n",
       "      <td>https://lumenart.com/images/designer/wlp_specs...</td>\n",
       "      <td>lighting</td>\n",
       "      <td>WLP LumenArt LIGHTING SOLUTIONS 0 * 44.9\" SPEC...</td>\n",
       "    </tr>\n",
       "    <tr>\n",
       "      <th>4</th>\n",
       "      <td>https://lumenart.com/images/designer/wcp/wcp-s...</td>\n",
       "      <td>lighting</td>\n",
       "      <td>LumenArt WCP-S LIGHTING SOLUTIONS - Oak Walnut...</td>\n",
       "    </tr>\n",
       "  </tbody>\n",
       "</table>\n",
       "</div>"
      ],
      "text/plain": [
       "                                      datasheet_link target_col  \\\n",
       "0  https://lumenart.com/images/alume/awl-01_specs...   lighting   \n",
       "1  https://lumenart.com/images/fabric/rdc/rdc_spe...   lighting   \n",
       "2  https://lumenart.com/images/fabric/cyp/cyp_spe...   lighting   \n",
       "3  https://lumenart.com/images/designer/wlp_specs...   lighting   \n",
       "4  https://lumenart.com/images/designer/wcp/wcp-s...   lighting   \n",
       "\n",
       "                                                text  \n",
       "0  LumenArt LIGHTING SOLUTIONS AWL.01 AWL.01 4 in...  \n",
       "1  RDC Series LumenArt LIGHTING SOLUTIONS SPECIFI...  \n",
       "2  LumenArt CYP Series LIGHTING SOLUTIONS CYP8x24...  \n",
       "3  WLP LumenArt LIGHTING SOLUTIONS 0 * 44.9\" SPEC...  \n",
       "4  LumenArt WCP-S LIGHTING SOLUTIONS - Oak Walnut...  "
      ]
     },
     "execution_count": 7,
     "metadata": {},
     "output_type": "execute_result"
    }
   ],
   "source": [
    "test_df.head()"
   ]
  },
  {
   "cell_type": "code",
   "execution_count": 8,
   "metadata": {},
   "outputs": [
    {
     "name": "stdout",
     "output_type": "stream",
     "text": [
      "Total number of rows: 400\n"
     ]
    }
   ],
   "source": [
    "total_rows = train_df.shape[0]\n",
    "print(f\"Total number of rows in train_df : {total_rows}\")\n",
    "\n",
    "total_rows = test_df.shape[0]\n",
    "print(f\"Total number of rows in test_df : {total_rows}\")"
   ]
  },
  {
   "cell_type": "code",
   "execution_count": 9,
   "metadata": {},
   "outputs": [
    {
     "name": "stdout",
     "output_type": "stream",
     "text": [
      "datasheet_link      0\n",
      "target_col          0\n",
      "text              181\n",
      "dtype: int64\n"
     ]
    }
   ],
   "source": [
    "missing_values_count = train_df.isnull().sum()\n",
    "print(f\"Total number of missing values in train_df{missing_values_count}\")\n",
    "\n",
    "missing_values_count = test_df.isnull().sum()\n",
    "print(f\"Total number of missing values in test_df{missing_values_count}\")"
   ]
  },
  {
   "cell_type": "code",
   "execution_count": 11,
   "metadata": {},
   "outputs": [],
   "source": [
    "train_df.dropna(inplace=True)\n",
    "test_df.dropna(inplace=True)"
   ]
  },
  {
   "cell_type": "code",
   "execution_count": null,
   "metadata": {},
   "outputs": [],
   "source": [
    "target_counts = train_df['target_col'].value_counts()\n",
    "\n",
    "# Print the counts\n",
    "print(\"Count of each target variable in 'target_col' of Train Dataset:\")\n",
    "print(target_counts)\n",
    "\n",
    "# Plot the counts as a bar graph\n",
    "plt.figure(figsize=(10, 6))\n",
    "target_counts.plot(kind='bar', color='skyblue')\n",
    "plt.title('Count of Each Target Variable')\n",
    "plt.xlabel('Target Variables')\n",
    "plt.ylabel('Count')\n",
    "plt.xticks(rotation=45)\n",
    "plt.show()"
   ]
  },
  {
   "cell_type": "code",
   "execution_count": 12,
   "metadata": {},
   "outputs": [
    {
     "name": "stdout",
     "output_type": "stream",
     "text": [
      "Count of each target variable in 'target_col':\n",
      "target_col\n",
      "lighting    81\n",
      "cable       66\n",
      "fuses       49\n",
      "others      23\n",
      "Name: count, dtype: int64\n"
     ]
    },
    {
     "data": {
      "image/png": "[encoded data removed]",
      "text/plain": [
       "<Figure size 1000x600 with 1 Axes>"
      ]
     },
     "metadata": {},
     "output_type": "display_data"
    }
   ],
   "source": [
    "target_counts = test_df['target_col'].value_counts()\n",
    "\n",
    "# Print the counts\n",
    "print(\"Count of each target variable in 'target_col' of Test Dataset:\")\n",
    "print(target_counts)\n",
    "\n",
    "# Plot the counts as a bar graph\n",
    "plt.figure(figsize=(10, 6))\n",
    "target_counts.plot(kind='bar', color='skyblue')\n",
    "plt.title('Count of Each Target Variable')\n",
    "plt.xlabel('Target Variables')\n",
    "plt.ylabel('Count')\n",
    "plt.xticks(rotation=45)\n",
    "plt.show()"
   ]
  },
  {
   "cell_type": "markdown",
   "metadata": {},
   "source": [
    "### Text Preprocessing"
   ]
  },
  {
   "cell_type": "code",
   "execution_count": 51,
   "metadata": {},
   "outputs": [],
   "source": [
    "def preprocess_text(text):\n",
    "    # Converting text to lowercase\n",
    "    text = text.lower()\n",
    "    \n",
    "    # Removing special characters, punctuation, and numbers\n",
    "    text = re.sub(r'\\W', ' ', text)\n",
    "    text = re.sub(r'\\d', '', text)\n",
    "    \n",
    "    # Joining single characters that are next to each other with spaces\n",
    "    text = re.sub(r'(?<=\\b\\w)(\\s+\\w\\b)+', lambda match: match.group(0).replace(\" \", \"\"), text)\n",
    "    \n",
    "    # Tokenizing the text\n",
    "    words = word_tokenize(text)\n",
    "    \n",
    "    # Removing stopwords\n",
    "    stop_words = set(stopwords.words('english'))\n",
    "    words = [word for word in words if word not in stop_words]\n",
    "    \n",
    "    # Removing short words (e.g., single-character words) that weren't joined\n",
    "    words = [word for word in words if len(word) > 2]\n",
    "\n",
    "    lemmatizer = WordNetLemmatizer()\n",
    "    words = [lemmatizer.lemmatize(word) for word in words]\n",
    "    \n",
    "    return words\n"
   ]
  },
  {
   "cell_type": "code",
   "execution_count": 52,
   "metadata": {},
   "outputs": [],
   "source": [
    "train_df['processed_text'] = train_df['text'].apply(lambda x: preprocess_text(x))\n",
    "test_df['processed_text'] = test_df['text'].apply(lambda x: preprocess_text(x))\n"
   ]
  },
  {
   "cell_type": "code",
   "execution_count": 53,
   "metadata": {},
   "outputs": [
    {
     "data": {
      "text/plain": [
       "0      [lumenart, lighting, solution, awl, awl, awl, ...\n",
       "1      [rdc, series, lumenart, lighting, solution, sp...\n",
       "2      [lumenart, cyp, series, lighting, solution, cy...\n",
       "3      [wlp, lumenart, lighting, solution, specificat...\n",
       "4      [lumenart, wcp, lighting, solution, oak, walnu...\n",
       "                             ...                        \n",
       "393    [belden, product, ohm, wireless, transmission,...\n",
       "395    [belden, product, controlbus, coax, sol, fpe, ...\n",
       "397    [time, microwave, system, lmr, ultraflex, comm...\n",
       "398    [belden, product, ohm, sdi, coax, awg, solid, ...\n",
       "399    [belden, product, ohm, analog, video, coax, aw...\n",
       "Name: processed_text, Length: 219, dtype: object"
      ]
     },
     "execution_count": 53,
     "metadata": {},
     "output_type": "execute_result"
    }
   ],
   "source": [
    "test_df[\"processed_text\"]"
   ]
  },
  {
   "cell_type": "markdown",
   "metadata": {},
   "source": [
    "### Word2Vec Embedding of preprocessed Text"
   ]
  },
  {
   "cell_type": "code",
   "execution_count": 54,
   "metadata": {},
   "outputs": [],
   "source": [
    "from gensim.models import Word2Vec\n",
    "\n",
    "# Create Word2Vec model (using lemmatized text as an example)\n",
    "model = Word2Vec(sentences=train_df['processed_text'], vector_size=100, window=5, min_count=1, workers=4)\n",
    "\n",
    "# Convert each text to its Word2Vec representation\n",
    "# Convert testing text to Word2Vec vectors\n",
    "train_df['text_vectors'] = train_df['processed_text'].apply(lambda x: [model.wv[word] for word in x if word in model.wv])\n",
    "test_df['text_vectors'] = test_df['processed_text'].apply(lambda x: [model.wv[word] for word in x if word in model.wv])\n"
   ]
  },
  {
   "cell_type": "markdown",
   "metadata": {},
   "source": [
    "### Label Encoding of target variable"
   ]
  },
  {
   "cell_type": "code",
   "execution_count": 55,
   "metadata": {},
   "outputs": [],
   "source": [
    "from sklearn.preprocessing import LabelEncoder"
   ]
  },
  {
   "cell_type": "code",
   "execution_count": 56,
   "metadata": {},
   "outputs": [],
   "source": [
    "# Initialize LabelEncoder\n",
    "label_encoder = LabelEncoder()\n",
    "\n",
    "# Fit and transform the labels in 'target_col'\n",
    "train_df['encoded_target'] = label_encoder.fit_transform(train_df['target_col'])\n",
    "test_df['encoded_target'] = label_encoder.fit_transform(test_df['target_col'])\n"
   ]
  },
  {
   "cell_type": "code",
   "execution_count": 57,
   "metadata": {},
   "outputs": [
    {
     "name": "stdout",
     "output_type": "stream",
     "text": [
      "{'cable': 0, 'fuses': 1, 'lighting': 2, 'others': 3}\n"
     ]
    }
   ],
   "source": [
    "# Get the mapping of labels to encoded values\n",
    "label_mapping = dict(zip(label_encoder.classes_, label_encoder.transform(label_encoder.classes_)))\n",
    "print(label_mapping)\n"
   ]
  },
  {
   "cell_type": "markdown",
   "metadata": {},
   "source": [
    "## Model Training\n",
    "\n",
    "### 1) SVM Classifier"
   ]
  },
  {
   "cell_type": "code",
   "execution_count": 58,
   "metadata": {},
   "outputs": [],
   "source": [
    "from sklearn.model_selection import train_test_split, StratifiedKFold, cross_val_score\n",
    "from sklearn.svm import SVC\n",
    "from sklearn.metrics import make_scorer, classification_report, accuracy_score\n",
    "import numpy as np"
   ]
  },
  {
   "cell_type": "code",
   "execution_count": 59,
   "metadata": {},
   "outputs": [],
   "source": [
    "def pad_vectors(vectors, max_len=100):\n",
    "    if len(vectors) > max_len:\n",
    "        vectors = vectors[:max_len]\n",
    "    else:\n",
    "        vectors += [np.zeros(vectors[0].shape)] * (max_len - len(vectors))\n",
    "    return np.array(vectors)\n",
    "\n",
    "# Defining the flatten function\n",
    "def flatten_vectors(vectors, max_len=100):\n",
    "    padded_vectors = pad_vectors(vectors, max_len)\n",
    "    return padded_vectors.reshape(-1)\n",
    "\n",
    "# Applying padding and flattening\n",
    "max_len = 100  # Adjust this value as needed\n",
    "train_df['processed_text_vectors'] = train_df['text_vectors'].apply(lambda x: flatten_vectors(x, max_len))\n",
    "test_df['processed_text_vectors'] = test_df['text_vectors'].apply(lambda x: flatten_vectors(x, max_len))"
   ]
  },
  {
   "cell_type": "code",
   "execution_count": 60,
   "metadata": {},
   "outputs": [],
   "source": [
    "# Converting padded vectors to numpy array\n",
    "X_train = np.array(list(train_df['processed_text_vectors']))\n",
    "X_test =  np.array(list(test_df['processed_text_vectors']))\n",
    "y_train = train_df['encoded_target'].values\n",
    "y_test =  test_df['encoded_target'].values"
   ]
  },
  {
   "cell_type": "code",
   "execution_count": 61,
   "metadata": {},
   "outputs": [
    {
     "data": {
      "text/html": [
       "<style>#sk-container-id-2 {color: black;}#sk-container-id-2 pre{padding: 0;}#sk-container-id-2 div.sk-toggleable {background-color: white;}#sk-container-id-2 label.sk-toggleable__label {cursor: pointer;display: block;width: 100%;margin-bottom: 0;padding: 0.3em;box-sizing: border-box;text-align: center;}#sk-container-id-2 label.sk-toggleable__label-arrow:before {content: \"▸\";float: left;margin-right: 0.25em;color: #696969;}#sk-container-id-2 label.sk-toggleable__label-arrow:hover:before {color: black;}#sk-container-id-2 div.sk-estimator:hover label.sk-toggleable__label-arrow:before {color: black;}#sk-container-id-2 div.sk-toggleable__content {max-height: 0;max-width: 0;overflow: hidden;text-align: left;background-color: #f0f8ff;}#sk-container-id-2 div.sk-toggleable__content pre {margin: 0.2em;color: black;border-radius: 0.25em;background-color: #f0f8ff;}#sk-container-id-2 input.sk-toggleable__control:checked~div.sk-toggleable__content {max-height: 200px;max-width: 100%;overflow: auto;}#sk-container-id-2 input.sk-toggleable__control:checked~label.sk-toggleable__label-arrow:before {content: \"▾\";}#sk-container-id-2 div.sk-estimator input.sk-toggleable__control:checked~label.sk-toggleable__label {background-color: #d4ebff;}#sk-container-id-2 div.sk-label input.sk-toggleable__control:checked~label.sk-toggleable__label {background-color: #d4ebff;}#sk-container-id-2 input.sk-hidden--visually {border: 0;clip: rect(1px 1px 1px 1px);clip: rect(1px, 1px, 1px, 1px);height: 1px;margin: -1px;overflow: hidden;padding: 0;position: absolute;width: 1px;}#sk-container-id-2 div.sk-estimator {font-family: monospace;background-color: #f0f8ff;border: 1px dotted black;border-radius: 0.25em;box-sizing: border-box;margin-bottom: 0.5em;}#sk-container-id-2 div.sk-estimator:hover {background-color: #d4ebff;}#sk-container-id-2 div.sk-parallel-item::after {content: \"\";width: 100%;border-bottom: 1px solid gray;flex-grow: 1;}#sk-container-id-2 div.sk-label:hover label.sk-toggleable__label {background-color: #d4ebff;}#sk-container-id-2 div.sk-serial::before {content: \"\";position: absolute;border-left: 1px solid gray;box-sizing: border-box;top: 0;bottom: 0;left: 50%;z-index: 0;}#sk-container-id-2 div.sk-serial {display: flex;flex-direction: column;align-items: center;background-color: white;padding-right: 0.2em;padding-left: 0.2em;position: relative;}#sk-container-id-2 div.sk-item {position: relative;z-index: 1;}#sk-container-id-2 div.sk-parallel {display: flex;align-items: stretch;justify-content: center;background-color: white;position: relative;}#sk-container-id-2 div.sk-item::before, #sk-container-id-2 div.sk-parallel-item::before {content: \"\";position: absolute;border-left: 1px solid gray;box-sizing: border-box;top: 0;bottom: 0;left: 50%;z-index: -1;}#sk-container-id-2 div.sk-parallel-item {display: flex;flex-direction: column;z-index: 1;position: relative;background-color: white;}#sk-container-id-2 div.sk-parallel-item:first-child::after {align-self: flex-end;width: 50%;}#sk-container-id-2 div.sk-parallel-item:last-child::after {align-self: flex-start;width: 50%;}#sk-container-id-2 div.sk-parallel-item:only-child::after {width: 0;}#sk-container-id-2 div.sk-dashed-wrapped {border: 1px dashed gray;margin: 0 0.4em 0.5em 0.4em;box-sizing: border-box;padding-bottom: 0.4em;background-color: white;}#sk-container-id-2 div.sk-label label {font-family: monospace;font-weight: bold;display: inline-block;line-height: 1.2em;}#sk-container-id-2 div.sk-label-container {text-align: center;}#sk-container-id-2 div.sk-container {/* jupyter's `normalize.less` sets `[hidden] { display: none; }` but bootstrap.min.css set `[hidden] { display: none !important; }` so we also need the `!important` here to be able to override the default hidden behavior on the sphinx rendered scikit-learn.org. See: https://github.com/scikit-learn/scikit-learn/issues/21755 */display: inline-block !important;position: relative;}#sk-container-id-2 div.sk-text-repr-fallback {display: none;}</style><div id=\"sk-container-id-2\" class=\"sk-top-container\"><div class=\"sk-text-repr-fallback\"><pre>SVC(kernel=&#x27;linear&#x27;)</pre><b>In a Jupyter environment, please rerun this cell to show the HTML representation or trust the notebook. <br />On GitHub, the HTML representation is unable to render, please try loading this page with nbviewer.org.</b></div><div class=\"sk-container\" hidden><div class=\"sk-item\"><div class=\"sk-estimator sk-toggleable\"><input class=\"sk-toggleable__control sk-hidden--visually\" id=\"sk-estimator-id-2\" type=\"checkbox\" checked><label for=\"sk-estimator-id-2\" class=\"sk-toggleable__label sk-toggleable__label-arrow\">SVC</label><div class=\"sk-toggleable__content\"><pre>SVC(kernel=&#x27;linear&#x27;)</pre></div></div></div></div></div>"
      ],
      "text/plain": [
       "SVC(kernel='linear')"
      ]
     },
     "execution_count": 61,
     "metadata": {},
     "output_type": "execute_result"
    }
   ],
   "source": [
    "# Initializing SVM classifier\n",
    "svm_model = SVC(kernel='linear')  # You can choose other kernels like 'rbf', 'poly', etc.\n",
    "\n",
    "# Training the model\n",
    "svm_model.fit(X_train, y_train)"
   ]
  },
  {
   "cell_type": "code",
   "execution_count": 62,
   "metadata": {},
   "outputs": [],
   "source": [
    "# Making predictions and evaluating\n",
    "y_pred = svm_model.predict(X_test)\n",
    "accuracy = accuracy_score(y_test, y_pred)\n",
    "report = classification_report(y_test, y_pred)"
   ]
  },
  {
   "cell_type": "markdown",
   "metadata": {},
   "source": [
    "### Classification Report"
   ]
  },
  {
   "cell_type": "code",
   "execution_count": 23,
   "metadata": {},
   "outputs": [
    {
     "name": "stdout",
     "output_type": "stream",
     "text": [
      "Accuracy: 0.96\n",
      "Classification Report:\n",
      "              precision    recall  f1-score   support\n",
      "\n",
      "           0       0.97      0.95      0.96        66\n",
      "           1       0.94      1.00      0.97        49\n",
      "           2       0.99      0.99      0.99        81\n",
      "           3       0.90      0.83      0.86        23\n",
      "\n",
      "    accuracy                           0.96       219\n",
      "   macro avg       0.95      0.94      0.95       219\n",
      "weighted avg       0.96      0.96      0.96       219\n",
      "\n"
     ]
    }
   ],
   "source": [
    "print(f'Accuracy: {accuracy:.2f}')\n",
    "print('Classification Report:')\n",
    "print(report)"
   ]
  },
  {
   "cell_type": "code",
   "execution_count": 64,
   "metadata": {},
   "outputs": [
    {
     "ename": "TypeError",
     "evalue": "dump() missing 1 required positional argument: 'filename'",
     "output_type": "error",
     "traceback": [
      "\u001b[1;31m---------------------------------------------------------------------------\u001b[0m",
      "\u001b[1;31mTypeError\u001b[0m                                 Traceback (most recent call last)",
      "Cell \u001b[1;32mIn[64], line 4\u001b[0m\n\u001b[0;32m      1\u001b[0m \u001b[38;5;28;01mimport\u001b[39;00m \u001b[38;5;21;01mjoblib\u001b[39;00m\n\u001b[0;32m      3\u001b[0m \u001b[38;5;66;03m# Save the pipeline (includes both the vectorizer and the SVM model)\u001b[39;00m\n\u001b[1;32m----> 4\u001b[0m \u001b[43mjoblib\u001b[49m\u001b[38;5;241;43m.\u001b[39;49m\u001b[43mdump\u001b[49m\u001b[43m(\u001b[49m\u001b[38;5;124;43m'\u001b[39;49m\u001b[38;5;124;43msvm_model.pkl\u001b[39;49m\u001b[38;5;124;43m'\u001b[39;49m\u001b[43m)\u001b[49m\n\u001b[0;32m      6\u001b[0m \u001b[38;5;28mprint\u001b[39m(\u001b[38;5;124m\"\u001b[39m\u001b[38;5;124mModel saved as svm_model.pkl\u001b[39m\u001b[38;5;124m\"\u001b[39m)\n",
      "\u001b[1;31mTypeError\u001b[0m: dump() missing 1 required positional argument: 'filename'"
     ]
    }
   ],
   "source": [
    "import joblib\n",
    "\n",
    "# Save the pipeline (includes both the vectorizer and the SVM model)\n",
    "joblib.dump('svm_model.pkl')\n",
    "\n",
    "print(\"Model saved as svm_model.pkl\")"
   ]
  },
  {
   "cell_type": "markdown",
   "metadata": {},
   "source": [
    "### 2) Distil BERT"
   ]
  },
  {
   "cell_type": "code",
   "execution_count": 1,
   "metadata": {},
   "outputs": [],
   "source": [
    "# Fitting the model\n",
    "from transformers import DistilBertTokenizer, DistilBertForSequenceClassification\n",
    "import torch\n",
    "from torch.utils.data import DataLoader, TensorDataset\n",
    "from sklearn.model_selection import train_test_split\n"
   ]
  },
  {
   "cell_type": "code",
   "execution_count": 27,
   "metadata": {},
   "outputs": [],
   "source": [
    "# Loading the DistilBERT tokenizer and model\n",
    "tokenizer = DistilBertTokenizer.from_pretrained('distilbert-base-uncased')"
   ]
  },
  {
   "cell_type": "code",
   "execution_count": 28,
   "metadata": {},
   "outputs": [
    {
     "name": "stderr",
     "output_type": "stream",
     "text": [
      "Some weights of DistilBertForSequenceClassification were not initialized from the model checkpoint at distilbert-base-uncased and are newly initialized: ['pre_classifier.weight', 'classifier.weight', 'pre_classifier.bias', 'classifier.bias']\n",
      "You should probably TRAIN this model on a down-stream task to be able to use it for predictions and inference.\n"
     ]
    },
    {
     "data": {
      "text/plain": [
       "DistilBertForSequenceClassification(\n",
       "  (distilbert): DistilBertModel(\n",
       "    (embeddings): Embeddings(\n",
       "      (word_embeddings): Embedding(30522, 768, padding_idx=0)\n",
       "      (position_embeddings): Embedding(512, 768)\n",
       "      (LayerNorm): LayerNorm((768,), eps=1e-12, elementwise_affine=True)\n",
       "      (dropout): Dropout(p=0.1, inplace=False)\n",
       "    )\n",
       "    (transformer): Transformer(\n",
       "      (layer): ModuleList(\n",
       "        (0-5): 6 x TransformerBlock(\n",
       "          (attention): MultiHeadSelfAttention(\n",
       "            (dropout): Dropout(p=0.1, inplace=False)\n",
       "            (q_lin): Linear(in_features=768, out_features=768, bias=True)\n",
       "            (k_lin): Linear(in_features=768, out_features=768, bias=True)\n",
       "            (v_lin): Linear(in_features=768, out_features=768, bias=True)\n",
       "            (out_lin): Linear(in_features=768, out_features=768, bias=True)\n",
       "          )\n",
       "          (sa_layer_norm): LayerNorm((768,), eps=1e-12, elementwise_affine=True)\n",
       "          (ffn): FFN(\n",
       "            (dropout): Dropout(p=0.1, inplace=False)\n",
       "            (lin1): Linear(in_features=768, out_features=3072, bias=True)\n",
       "            (lin2): Linear(in_features=3072, out_features=768, bias=True)\n",
       "            (activation): GELUActivation()\n",
       "          )\n",
       "          (output_layer_norm): LayerNorm((768,), eps=1e-12, elementwise_affine=True)\n",
       "        )\n",
       "      )\n",
       "    )\n",
       "  )\n",
       "  (pre_classifier): Linear(in_features=768, out_features=768, bias=True)\n",
       "  (classifier): Linear(in_features=768, out_features=4, bias=True)\n",
       "  (dropout): Dropout(p=0.2, inplace=False)\n",
       ")"
      ]
     },
     "execution_count": 28,
     "metadata": {},
     "output_type": "execute_result"
    }
   ],
   "source": [
    "model = DistilBertForSequenceClassification.from_pretrained('distilbert-base-uncased', num_labels=4)\n",
    "device = torch.device('cuda' if torch.cuda.is_available() else 'cpu')\n",
    "model.to(device)"
   ]
  },
  {
   "cell_type": "markdown",
   "metadata": {},
   "source": [
    "Preprocessing and tokenizing text using DistilBERT tokenizer.\n",
    "\n",
    "    Parameters:\n",
    "\n",
    "    - text (str): The input text to be tokenized.\n",
    "\n",
    "    Returns:\n",
    "    \n",
    "    - encoding (dict): Contains tokenized input IDs and attention masks.\n"
   ]
  },
  {
   "cell_type": "code",
   "execution_count": 29,
   "metadata": {},
   "outputs": [
    {
     "name": "stdout",
     "output_type": "stream",
     "text": [
      "train_input_ids shape: torch.Size([681, 128])\n",
      "train_attention_mask shape: torch.Size([681, 128])\n",
      "train_labels shape: torch.Size([681])\n"
     ]
    }
   ],
   "source": [
    "def preprocess_text(text):\n",
    "\n",
    "    encoding = tokenizer(text, truncation=True, padding='max_length', max_length=128, return_tensors='pt')\n",
    "    return encoding\n",
    "\n",
    "# Process training data\n",
    "train_encodings = [preprocess_text(text) for text in train_df['text']]\n",
    "\n",
    "# Extract tensors from encodings\n",
    "input_ids_list = [enc['input_ids'].squeeze(0) for enc in train_encodings]\n",
    "attention_mask_list = [enc['attention_mask'].squeeze(0) for enc in train_encodings]\n",
    "\n",
    "# Convert to tensors\n",
    "train_input_ids = torch.stack(input_ids_list)\n",
    "train_attention_mask = torch.stack(attention_mask_list)\n",
    "train_labels = torch.tensor(train_df['encoded_target'].values)\n",
    "\n",
    "print(f\"train_input_ids shape: {train_input_ids.shape}\")\n",
    "print(f\"train_attention_mask shape: {train_attention_mask.shape}\")\n",
    "print(f\"train_labels shape: {train_labels.shape}\")\n",
    "\n",
    "# Ensure sizes match\n",
    "assert train_input_ids.shape[0] == train_attention_mask.shape[0] == len(train_labels), \"Size mismatch between tensors\"\n",
    "\n",
    "# Create TensorDataset for training\n",
    "train_dataset = TensorDataset(train_input_ids, train_attention_mask, train_labels)\n",
    "\n",
    "# Create DataLoader for training\n",
    "train_loader = DataLoader(train_dataset, batch_size=16, shuffle=True)"
   ]
  },
  {
   "cell_type": "code",
   "execution_count": 30,
   "metadata": {},
   "outputs": [
    {
     "name": "stdout",
     "output_type": "stream",
     "text": [
      "Number of texts in train_df: 681\n",
      "Number of processed encodings: 681\n",
      "Number of labels: 681\n"
     ]
    }
   ],
   "source": [
    "print(f\"Number of texts in train_df: {len(train_df)}\")\n",
    "print(f\"Number of processed encodings: {len(train_encodings)}\")\n",
    "print(f\"Number of labels: {len(train_labels)}\")"
   ]
  },
  {
   "cell_type": "code",
   "execution_count": 31,
   "metadata": {},
   "outputs": [],
   "source": [
    "train_labels = torch.tensor(train_df['encoded_target'].values, dtype=torch.long)"
   ]
  },
  {
   "cell_type": "markdown",
   "metadata": {},
   "source": [
    "### Training Model "
   ]
  },
  {
   "cell_type": "code",
   "execution_count": 33,
   "metadata": {},
   "outputs": [
    {
     "name": "stderr",
     "output_type": "stream",
     "text": [
      "c:\\Users\\shrit\\anaconda3\\envs\\mlenv\\Lib\\site-packages\\torch\\cuda\\amp\\grad_scaler.py:125: UserWarning: torch.cuda.amp.GradScaler is enabled, but CUDA is not available.  Disabling.\n",
      "  warnings.warn(\n"
     ]
    },
    {
     "data": {
      "application/vnd.jupyter.widget-view+json": {
       "model_id": "0e008100a86d417b98e44cfeb14919e1",
       "version_major": 2,
       "version_minor": 0
      },
      "text/plain": [
       "Epoch 1:   0%|          | 0/43 [00:00<?, ?batch/s]"
      ]
     },
     "metadata": {},
     "output_type": "display_data"
    },
    {
     "name": "stderr",
     "output_type": "stream",
     "text": [
      "c:\\Users\\shrit\\anaconda3\\envs\\mlenv\\Lib\\site-packages\\torch\\amp\\autocast_mode.py:250: UserWarning: User provided device_type of 'cuda', but CUDA is not available. Disabling\n",
      "  warnings.warn(\n"
     ]
    },
    {
     "name": "stdout",
     "output_type": "stream",
     "text": [
      "Epoch 1 completed with average loss: 0.0122 and accuracy: 0.9985\n"
     ]
    },
    {
     "data": {
      "application/vnd.jupyter.widget-view+json": {
       "model_id": "0cfd4f7cb1e3403e99d889b0826d998b",
       "version_major": 2,
       "version_minor": 0
      },
      "text/plain": [
       "Epoch 2:   0%|          | 0/43 [00:00<?, ?batch/s]"
      ]
     },
     "metadata": {},
     "output_type": "display_data"
    },
    {
     "name": "stderr",
     "output_type": "stream",
     "text": [
      "c:\\Users\\shrit\\anaconda3\\envs\\mlenv\\Lib\\site-packages\\torch\\amp\\autocast_mode.py:250: UserWarning: User provided device_type of 'cuda', but CUDA is not available. Disabling\n",
      "  warnings.warn(\n"
     ]
    },
    {
     "name": "stdout",
     "output_type": "stream",
     "text": [
      "Epoch 2 completed with average loss: 0.0190 and accuracy: 0.9956\n"
     ]
    },
    {
     "data": {
      "application/vnd.jupyter.widget-view+json": {
       "model_id": "6d10be03690d41fc8fdc6a0c721a598f",
       "version_major": 2,
       "version_minor": 0
      },
      "text/plain": [
       "Epoch 3:   0%|          | 0/43 [00:00<?, ?batch/s]"
      ]
     },
     "metadata": {},
     "output_type": "display_data"
    },
    {
     "name": "stderr",
     "output_type": "stream",
     "text": [
      "c:\\Users\\shrit\\anaconda3\\envs\\mlenv\\Lib\\site-packages\\torch\\amp\\autocast_mode.py:250: UserWarning: User provided device_type of 'cuda', but CUDA is not available. Disabling\n",
      "  warnings.warn(\n"
     ]
    },
    {
     "name": "stdout",
     "output_type": "stream",
     "text": [
      "Epoch 3 completed with average loss: 0.0415 and accuracy: 0.9883\n"
     ]
    },
    {
     "data": {
      "application/vnd.jupyter.widget-view+json": {
       "model_id": "a261394e52e44e4998df5bc957e929c6",
       "version_major": 2,
       "version_minor": 0
      },
      "text/plain": [
       "Epoch 4:   0%|          | 0/43 [00:00<?, ?batch/s]"
      ]
     },
     "metadata": {},
     "output_type": "display_data"
    },
    {
     "name": "stderr",
     "output_type": "stream",
     "text": [
      "c:\\Users\\shrit\\anaconda3\\envs\\mlenv\\Lib\\site-packages\\torch\\amp\\autocast_mode.py:250: UserWarning: User provided device_type of 'cuda', but CUDA is not available. Disabling\n",
      "  warnings.warn(\n"
     ]
    },
    {
     "name": "stdout",
     "output_type": "stream",
     "text": [
      "Epoch 4 completed with average loss: 0.0124 and accuracy: 0.9985\n"
     ]
    },
    {
     "data": {
      "application/vnd.jupyter.widget-view+json": {
       "model_id": "e2a9db760c3a48369239f4db20e45887",
       "version_major": 2,
       "version_minor": 0
      },
      "text/plain": [
       "Epoch 5:   0%|          | 0/43 [00:00<?, ?batch/s]"
      ]
     },
     "metadata": {},
     "output_type": "display_data"
    },
    {
     "name": "stderr",
     "output_type": "stream",
     "text": [
      "c:\\Users\\shrit\\anaconda3\\envs\\mlenv\\Lib\\site-packages\\torch\\amp\\autocast_mode.py:250: UserWarning: User provided device_type of 'cuda', but CUDA is not available. Disabling\n",
      "  warnings.warn(\n"
     ]
    },
    {
     "name": "stdout",
     "output_type": "stream",
     "text": [
      "Epoch 5 completed with average loss: 0.0010 and accuracy: 1.0000\n"
     ]
    }
   ],
   "source": [
    "from tqdm.auto import tqdm\n",
    "from torch.optim import AdamW\n",
    "from torch.cuda.amp import autocast, GradScaler\n",
    "from sklearn.metrics import accuracy_score\n",
    "import torch\n",
    "\n",
    "epoch_losses = []\n",
    "epoch_accuracies = []\n",
    "\n",
    "\n",
    "optimizer = AdamW(model.parameters(), lr=5e-5)\n",
    "\n",
    "scaler = GradScaler()\n",
    "\n",
    "\n",
    "model.train()\n",
    "for epoch in range(5): \n",
    "    total_loss = 0\n",
    "    all_labels = []\n",
    "    all_preds = []\n",
    "    \n",
    "    # Ensure tqdm is correctly displaying progress\n",
    "    pbar = tqdm(total=len(train_loader), desc=f'Epoch {epoch+1}', unit='batch')\n",
    "    \n",
    "    for batch in train_loader:\n",
    "        input_ids, attention_mask, labels = [item.to(device) for item in batch]\n",
    "        \n",
    "    \n",
    "        labels = labels.long()\n",
    "        with autocast():\n",
    "            outputs = model(input_ids, attention_mask=attention_mask, labels=labels)\n",
    "            loss = outputs.loss\n",
    "\n",
    "        scaler.scale(loss).backward()\n",
    "        \n",
    "\n",
    "        scaler.step(optimizer)\n",
    "        scaler.update()\n",
    "        \n",
    "        optimizer.zero_grad(set_to_none=True)\n",
    "        \n",
    "        total_loss += loss.item()\n",
    "        \n",
    "\n",
    "        with torch.no_grad():\n",
    "            logits = outputs.logits\n",
    "            preds = torch.argmax(logits, dim=1)\n",
    "            all_preds.append(preds.cpu())\n",
    "            all_labels.append(labels.cpu())\n",
    "        \n",
    "        pbar.update(1)  \n",
    "    \n",
    "    pbar.close()\n",
    "    \n",
    "    avg_loss = total_loss / len(train_loader)\n",
    "    epoch_losses.append(avg_loss)\n",
    "    \n",
    "    # Calculate accuracy\n",
    "    all_preds = torch.cat(all_preds).numpy()\n",
    "    all_labels = torch.cat(all_labels).numpy()\n",
    "    accuracy = accuracy_score(all_labels, all_preds)\n",
    "    epoch_accuracies.append(accuracy)\n",
    "    \n",
    "    print(f'Epoch {epoch+1} completed with average loss: {avg_loss:.4f} and accuracy: {accuracy:.4f}')"
   ]
  },
  {
   "cell_type": "code",
   "execution_count": 36,
   "metadata": {},
   "outputs": [],
   "source": [
    "# Processing test data\n",
    "test_encodings = [preprocess_text(text) for text in test_df['text']]\n",
    "input_ids_list = [enc['input_ids'].squeeze(0) for enc in test_encodings]\n",
    "attention_mask_list = [enc['attention_mask'].squeeze(0) for enc in test_encodings]\n",
    "\n",
    "# Converting to tensors\n",
    "test_input_ids = torch.stack(input_ids_list)\n",
    "test_attention_mask = torch.stack(attention_mask_list)\n",
    "\n",
    "test_dataset = TensorDataset(test_input_ids, test_attention_mask)\n",
    "test_loader = DataLoader(test_dataset, batch_size=16)\n",
    "\n",
    "# Making predictions\n",
    "model.eval()\n",
    "test_preds = []\n",
    "\n",
    "with torch.no_grad():\n",
    "    for batch in test_loader:\n",
    "        input_ids, attention_mask = [item.to(device) for item in batch]\n",
    "        outputs = model(input_ids, attention_mask=attention_mask)\n",
    "        logits = outputs.logits\n",
    "        preds = torch.argmax(logits, dim=1).cpu().numpy()\n",
    "        test_preds.extend(preds)\n",
    "\n",
    "# Add predictions to test_df\n",
    "test_df['predictions'] = test_preds\n"
   ]
  },
  {
   "cell_type": "markdown",
   "metadata": {},
   "source": [
    "### Classification Report"
   ]
  },
  {
   "cell_type": "code",
   "execution_count": 37,
   "metadata": {},
   "outputs": [
    {
     "name": "stdout",
     "output_type": "stream",
     "text": [
      "Test Accuracy: 0.99\n",
      "              precision    recall  f1-score   support\n",
      "\n",
      "           0       1.00      1.00      1.00        66\n",
      "           1       1.00      1.00      1.00        49\n",
      "           2       0.99      0.99      0.99        81\n",
      "           3       0.96      0.96      0.96        23\n",
      "\n",
      "    accuracy                           0.99       219\n",
      "   macro avg       0.99      0.99      0.99       219\n",
      "weighted avg       0.99      0.99      0.99       219\n",
      "\n"
     ]
    }
   ],
   "source": [
    "# Assuming you have ground truth labels in test_df['true_labels']\n",
    "accuracy = accuracy_score(test_df['encoded_target'], test_df['predictions'])\n",
    "print(f'Test Accuracy: {accuracy:.2f}')\n",
    "print(classification_report(test_df['encoded_target'], test_df['predictions']))\n"
   ]
  },
  {
   "cell_type": "code",
   "execution_count": 38,
   "metadata": {},
   "outputs": [
    {
     "name": "stdout",
     "output_type": "stream",
     "text": [
      "Model and tokenizer saved successfully!\n"
     ]
    }
   ],
   "source": [
    "from transformers import DistilBertForSequenceClassification, DistilBertTokenizer\n",
    "\n",
    "# Save the model and tokenizer\n",
    "model_save_path = \"./distilbert_model\"\n",
    "tokenizer_save_path = \"./distilbert_tokenizer\"\n",
    "\n",
    "# Save the model\n",
    "model.save_pretrained(model_save_path)\n",
    "\n",
    "# Save the tokenizer\n",
    "tokenizer.save_pretrained(tokenizer_save_path)\n",
    "\n",
    "print(\"Model and tokenizer saved successfully!\")"
   ]
  }
 ],
 "metadata": {
  "kernelspec": {
   "display_name": "mlenv",
   "language": "python",
   "name": "python3"
  },
  "language_info": {
   "codemirror_mode": {
    "name": "ipython",
    "version": 3
   },
   "file_extension": ".py",
   "mimetype": "text/x-python",
   "name": "python",
   "nbconvert_exporter": "python",
   "pygments_lexer": "ipython3",
   "version": "3.11.5"
  }
 },
 "nbformat": 4,
 "nbformat_minor": 2
}
